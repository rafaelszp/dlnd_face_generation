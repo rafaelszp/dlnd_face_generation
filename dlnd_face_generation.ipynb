{
  "nbformat": 4,
  "nbformat_minor": 0,
  "metadata": {
    "colab": {
      "name": "dlnd_face_generation.ipynb",
      "version": "0.3.2",
      "provenance": []
    },
    "kernelspec": {
      "display_name": "Python 3",
      "language": "python",
      "name": "python3"
    }
  },
  "cells": [
    {
      "cell_type": "markdown",
      "metadata": {
        "id": "view-in-github",
        "colab_type": "text"
      },
      "source": [
        "[View in Colaboratory](https://colab.research.google.com/github/rafaelszp/dlnd_face_generation/blob/master/dlnd_face_generation.ipynb)"
      ]
    },
    {
      "metadata": {
        "id": "bq-Zcbf1a3F4",
        "colab_type": "text"
      },
      "cell_type": "markdown",
      "source": [
        "# Face Generation\n",
        "In this project, you'll use generative adversarial networks to generate new images of faces.\n",
        "### Get the Data\n",
        "You'll be using two datasets in this project:\n",
        "- MNIST\n",
        "- CelebA\n",
        "\n",
        "Since the celebA dataset is complex and you're doing GANs in a project for the first time, we want you to test your neural network on MNIST before CelebA.  Running the GANs on MNIST will allow you to see how well your model trains sooner.\n",
        "\n",
        "If you're using [FloydHub](https://www.floydhub.com/), set `data_dir` to \"/input\" and use the [FloydHub data ID](http://docs.floydhub.com/home/using_datasets/) \"R5KrjnANiKVhLWAkpXhNBe\"."
      ]
    },
    {
      "metadata": {
        "id": "05smw7MFa3F6",
        "colab_type": "code",
        "colab": {
          "base_uri": "https://localhost:8080/",
          "height": 363
        },
        "outputId": "f707f4d1-5ac4-4681-a6eb-2b118d7d6a8f"
      },
      "cell_type": "code",
      "source": [
        "data_dir = './data'\n",
        "\n",
        "# FloydHub - Use with data ID \"R5KrjnANiKVhLWAkpXhNBe\"\n",
        "#data_dir = '/input'\n",
        "\n",
        "\n",
        "\"\"\"\n",
        "DON'T MODIFY ANYTHING IN THIS CELL\n",
        "\"\"\"\n",
        "import helper\n",
        "\n",
        "helper.download_extract('mnist', data_dir)\n",
        "helper.download_extract('celeba', data_dir)"
      ],
      "execution_count": 1,
      "outputs": [
        {
          "output_type": "error",
          "ename": "ModuleNotFoundError",
          "evalue": "ignored",
          "traceback": [
            "\u001b[0;31m---------------------------------------------------------------------------\u001b[0m",
            "\u001b[0;31mModuleNotFoundError\u001b[0m                       Traceback (most recent call last)",
            "\u001b[0;32m<ipython-input-1-89d87846deeb>\u001b[0m in \u001b[0;36m<module>\u001b[0;34m()\u001b[0m\n\u001b[1;32m      8\u001b[0m \u001b[0mDON\u001b[0m\u001b[0;31m'\u001b[0m\u001b[0mT\u001b[0m \u001b[0mMODIFY\u001b[0m \u001b[0mANYTHING\u001b[0m \u001b[0mIN\u001b[0m \u001b[0mTHIS\u001b[0m \u001b[0mCELL\u001b[0m\u001b[0;34m\u001b[0m\u001b[0m\n\u001b[1;32m      9\u001b[0m \"\"\"\n\u001b[0;32m---> 10\u001b[0;31m \u001b[0;32mimport\u001b[0m \u001b[0mhelper\u001b[0m\u001b[0;34m\u001b[0m\u001b[0m\n\u001b[0m\u001b[1;32m     11\u001b[0m \u001b[0;34m\u001b[0m\u001b[0m\n\u001b[1;32m     12\u001b[0m \u001b[0mhelper\u001b[0m\u001b[0;34m.\u001b[0m\u001b[0mdownload_extract\u001b[0m\u001b[0;34m(\u001b[0m\u001b[0;34m'mnist'\u001b[0m\u001b[0;34m,\u001b[0m \u001b[0mdata_dir\u001b[0m\u001b[0;34m)\u001b[0m\u001b[0;34m\u001b[0m\u001b[0m\n",
            "\u001b[0;31mModuleNotFoundError\u001b[0m: No module named 'helper'",
            "",
            "\u001b[0;31m---------------------------------------------------------------------------\u001b[0;32m\nNOTE: If your import is failing due to a missing package, you can\nmanually install dependencies using either !pip or !apt.\n\nTo view examples of installing some common dependencies, click the\n\"Open Examples\" button below.\n\u001b[0;31m---------------------------------------------------------------------------\u001b[0m\n"
          ]
        }
      ]
    },
    {
      "metadata": {
        "id": "T8E9iow7a3GC",
        "colab_type": "text"
      },
      "cell_type": "markdown",
      "source": [
        "## Explore the Data\n",
        "### MNIST\n",
        "As you're aware, the [MNIST](http://yann.lecun.com/exdb/mnist/) dataset contains images of handwritten digits. You can view the first number of examples by changing `show_n_images`. "
      ]
    },
    {
      "metadata": {
        "id": "CMVYFHv8a3GD",
        "colab_type": "code",
        "colab": {}
      },
      "cell_type": "code",
      "source": [
        "show_n_images = 25\n",
        "\n",
        "\"\"\"\n",
        "DON'T MODIFY ANYTHING IN THIS CELL\n",
        "\"\"\"\n",
        "%matplotlib inline\n",
        "import os\n",
        "from glob import glob\n",
        "from matplotlib import pyplot\n",
        "\n",
        "mnist_images = helper.get_batch(glob(os.path.join(data_dir, 'mnist/*.jpg'))[:show_n_images], 28, 28, 'L')\n",
        "pyplot.imshow(helper.images_square_grid(mnist_images, 'L'), cmap='gray')"
      ],
      "execution_count": 0,
      "outputs": []
    },
    {
      "metadata": {
        "id": "JOlC3-rQa3GG",
        "colab_type": "text"
      },
      "cell_type": "markdown",
      "source": [
        "### CelebA\n",
        "The [CelebFaces Attributes Dataset (CelebA)](http://mmlab.ie.cuhk.edu.hk/projects/CelebA.html) dataset contains over 200,000 celebrity images with annotations.  Since you're going to be generating faces, you won't need the annotations.  You can view the first number of examples by changing `show_n_images`."
      ]
    },
    {
      "metadata": {
        "id": "K8Snx80za3GG",
        "colab_type": "code",
        "colab": {}
      },
      "cell_type": "code",
      "source": [
        "show_n_images = 25\n",
        "\n",
        "\"\"\"\n",
        "DON'T MODIFY ANYTHING IN THIS CELL\n",
        "\"\"\"\n",
        "mnist_images = helper.get_batch(glob(os.path.join(data_dir, 'img_align_celeba/*.jpg'))[:show_n_images], 28, 28, 'RGB')\n",
        "pyplot.imshow(helper.images_square_grid(mnist_images, 'RGB'))"
      ],
      "execution_count": 0,
      "outputs": []
    },
    {
      "metadata": {
        "id": "e2gc_fOBa3GJ",
        "colab_type": "text"
      },
      "cell_type": "markdown",
      "source": [
        "## Preprocess the Data\n",
        "Since the project's main focus is on building the GANs, we'll preprocess the data for you.  The values of the MNIST and CelebA dataset will be in the range of -0.5 to 0.5 of 28x28 dimensional images.  The CelebA images will be cropped to remove parts of the image that don't include a face, then resized down to 28x28.\n",
        "\n",
        "The MNIST images are black and white images with a single [color channel](https://en.wikipedia.org/wiki/Channel_(digital_image%29) while the CelebA images have [3 color channels (RGB color channel)](https://en.wikipedia.org/wiki/Channel_(digital_image%29#RGB_Images).\n",
        "## Build the Neural Network\n",
        "You'll build the components necessary to build a GANs by implementing the following functions below:\n",
        "- `model_inputs`\n",
        "- `discriminator`\n",
        "- `generator`\n",
        "- `model_loss`\n",
        "- `model_opt`\n",
        "- `train`\n",
        "\n",
        "### Check the Version of TensorFlow and Access to GPU\n",
        "This will check to make sure you have the correct version of TensorFlow and access to a GPU"
      ]
    },
    {
      "metadata": {
        "id": "fMxqqR4ga3GK",
        "colab_type": "code",
        "colab": {}
      },
      "cell_type": "code",
      "source": [
        "\"\"\"\n",
        "DON'T MODIFY ANYTHING IN THIS CELL\n",
        "\"\"\"\n",
        "from distutils.version import LooseVersion\n",
        "import warnings\n",
        "import tensorflow as tf\n",
        "\n",
        "# Check TensorFlow Version\n",
        "assert LooseVersion(tf.__version__) >= LooseVersion('1.0'), 'Please use TensorFlow version 1.0 or newer.  You are using {}'.format(tf.__version__)\n",
        "print('TensorFlow Version: {}'.format(tf.__version__))\n",
        "\n",
        "# Check for a GPU\n",
        "if not tf.test.gpu_device_name():\n",
        "    warnings.warn('No GPU found. Please use a GPU to train your neural network.')\n",
        "else:\n",
        "    print('Default GPU Device: {}'.format(tf.test.gpu_device_name()))"
      ],
      "execution_count": 0,
      "outputs": []
    },
    {
      "metadata": {
        "id": "hVaUW7mUa3GN",
        "colab_type": "text"
      },
      "cell_type": "markdown",
      "source": [
        "### Input\n",
        "Implement the `model_inputs` function to create TF Placeholders for the Neural Network. It should create the following placeholders:\n",
        "- Real input images placeholder with rank 4 using `image_width`, `image_height`, and `image_channels`.\n",
        "- Z input placeholder with rank 2 using `z_dim`.\n",
        "- Learning rate placeholder with rank 0.\n",
        "\n",
        "Return the placeholders in the following the tuple (tensor of real input images, tensor of z data)"
      ]
    },
    {
      "metadata": {
        "id": "Apm7h6PAa3GO",
        "colab_type": "code",
        "colab": {}
      },
      "cell_type": "code",
      "source": [
        "import problem_unittests as tests\n",
        "\n",
        "def model_inputs(image_width, image_height, image_channels, z_dim):\n",
        "    \"\"\"\n",
        "    Create the model inputs\n",
        "    :param image_width: The input image width\n",
        "    :param image_height: The input image height\n",
        "    :param image_channels: The number of image channels\n",
        "    :param z_dim: The dimension of Z\n",
        "    :return: Tuple of (tensor of real input images, tensor of z data, learning rate)\n",
        "    \"\"\"\n",
        "    # TODO: Implement Function\n",
        "\n",
        "    return None, None, None\n",
        "\n",
        "\n",
        "\"\"\"\n",
        "DON'T MODIFY ANYTHING IN THIS CELL THAT IS BELOW THIS LINE\n",
        "\"\"\"\n",
        "tests.test_model_inputs(model_inputs)"
      ],
      "execution_count": 0,
      "outputs": []
    },
    {
      "metadata": {
        "id": "ooj-LdU2a3GR",
        "colab_type": "text"
      },
      "cell_type": "markdown",
      "source": [
        "### Discriminator\n",
        "Implement `discriminator` to create a discriminator neural network that discriminates on `images`.  This function should be able to reuse the variables in the neural network.  Use [`tf.variable_scope`](https://www.tensorflow.org/api_docs/python/tf/variable_scope) with a scope name of \"discriminator\" to allow the variables to be reused.  The function should return a tuple of (tensor output of the discriminator, tensor logits of the discriminator)."
      ]
    },
    {
      "metadata": {
        "id": "GpJlwYpea3GS",
        "colab_type": "code",
        "colab": {}
      },
      "cell_type": "code",
      "source": [
        "def discriminator(images, reuse=False):\n",
        "    \"\"\"\n",
        "    Create the discriminator network\n",
        "    :param images: Tensor of input image(s)\n",
        "    :param reuse: Boolean if the weights should be reused\n",
        "    :return: Tuple of (tensor output of the discriminator, tensor logits of the discriminator)\n",
        "    \"\"\"\n",
        "    # TODO: Implement Function\n",
        "\n",
        "    return None, None\n",
        "\n",
        "\n",
        "\"\"\"\n",
        "DON'T MODIFY ANYTHING IN THIS CELL THAT IS BELOW THIS LINE\n",
        "\"\"\"\n",
        "tests.test_discriminator(discriminator, tf)"
      ],
      "execution_count": 0,
      "outputs": []
    },
    {
      "metadata": {
        "id": "OsQh1-KGa3GV",
        "colab_type": "text"
      },
      "cell_type": "markdown",
      "source": [
        "### Generator\n",
        "Implement `generator` to generate an image using `z`. This function should be able to reuse the variables in the neural network.  Use [`tf.variable_scope`](https://www.tensorflow.org/api_docs/python/tf/variable_scope) with a scope name of \"generator\" to allow the variables to be reused. The function should return the generated 28 x 28 x `out_channel_dim` images."
      ]
    },
    {
      "metadata": {
        "id": "KHzJPuqSa3GW",
        "colab_type": "code",
        "colab": {}
      },
      "cell_type": "code",
      "source": [
        "def generator(z, out_channel_dim, is_train=True):\n",
        "    \"\"\"\n",
        "    Create the generator network\n",
        "    :param z: Input z\n",
        "    :param out_channel_dim: The number of channels in the output image\n",
        "    :param is_train: Boolean if generator is being used for training\n",
        "    :return: The tensor output of the generator\n",
        "    \"\"\"\n",
        "    # TODO: Implement Function\n",
        "    \n",
        "    return None\n",
        "\n",
        "\n",
        "\"\"\"\n",
        "DON'T MODIFY ANYTHING IN THIS CELL THAT IS BELOW THIS LINE\n",
        "\"\"\"\n",
        "tests.test_generator(generator, tf)"
      ],
      "execution_count": 0,
      "outputs": []
    },
    {
      "metadata": {
        "id": "kxHgWZXja3Ga",
        "colab_type": "text"
      },
      "cell_type": "markdown",
      "source": [
        "### Loss\n",
        "Implement `model_loss` to build the GANs for training and calculate the loss.  The function should return a tuple of (discriminator loss, generator loss).  Use the following functions you implemented:\n",
        "- `discriminator(images, reuse=False)`\n",
        "- `generator(z, out_channel_dim, is_train=True)`"
      ]
    },
    {
      "metadata": {
        "id": "cy1XKDcKa3Ga",
        "colab_type": "code",
        "colab": {}
      },
      "cell_type": "code",
      "source": [
        "def model_loss(input_real, input_z, out_channel_dim):\n",
        "    \"\"\"\n",
        "    Get the loss for the discriminator and generator\n",
        "    :param input_real: Images from the real dataset\n",
        "    :param input_z: Z input\n",
        "    :param out_channel_dim: The number of channels in the output image\n",
        "    :return: A tuple of (discriminator loss, generator loss)\n",
        "    \"\"\"\n",
        "    # TODO: Implement Function\n",
        "    \n",
        "    return None, None\n",
        "\n",
        "\n",
        "\"\"\"\n",
        "DON'T MODIFY ANYTHING IN THIS CELL THAT IS BELOW THIS LINE\n",
        "\"\"\"\n",
        "tests.test_model_loss(model_loss)"
      ],
      "execution_count": 0,
      "outputs": []
    },
    {
      "metadata": {
        "id": "dmPgecEBa3Ge",
        "colab_type": "text"
      },
      "cell_type": "markdown",
      "source": [
        "### Optimization\n",
        "Implement `model_opt` to create the optimization operations for the GANs. Use [`tf.trainable_variables`](https://www.tensorflow.org/api_docs/python/tf/trainable_variables) to get all the trainable variables.  Filter the variables with names that are in the discriminator and generator scope names.  The function should return a tuple of (discriminator training operation, generator training operation)."
      ]
    },
    {
      "metadata": {
        "id": "F4TfDwPIa3Gg",
        "colab_type": "code",
        "colab": {}
      },
      "cell_type": "code",
      "source": [
        "def model_opt(d_loss, g_loss, learning_rate, beta1):\n",
        "    \"\"\"\n",
        "    Get optimization operations\n",
        "    :param d_loss: Discriminator loss Tensor\n",
        "    :param g_loss: Generator loss Tensor\n",
        "    :param learning_rate: Learning Rate Placeholder\n",
        "    :param beta1: The exponential decay rate for the 1st moment in the optimizer\n",
        "    :return: A tuple of (discriminator training operation, generator training operation)\n",
        "    \"\"\"\n",
        "    # TODO: Implement Function\n",
        "    \n",
        "    return None, None\n",
        "\n",
        "\n",
        "\"\"\"\n",
        "DON'T MODIFY ANYTHING IN THIS CELL THAT IS BELOW THIS LINE\n",
        "\"\"\"\n",
        "tests.test_model_opt(model_opt, tf)"
      ],
      "execution_count": 0,
      "outputs": []
    },
    {
      "metadata": {
        "id": "92duK-8Oa3Gj",
        "colab_type": "text"
      },
      "cell_type": "markdown",
      "source": [
        "## Neural Network Training\n",
        "### Show Output\n",
        "Use this function to show the current output of the generator during training. It will help you determine how well the GANs is training."
      ]
    },
    {
      "metadata": {
        "id": "kvTrCOoqa3Gk",
        "colab_type": "code",
        "colab": {}
      },
      "cell_type": "code",
      "source": [
        "\"\"\"\n",
        "DON'T MODIFY ANYTHING IN THIS CELL\n",
        "\"\"\"\n",
        "import numpy as np\n",
        "\n",
        "def show_generator_output(sess, n_images, input_z, out_channel_dim, image_mode):\n",
        "    \"\"\"\n",
        "    Show example output for the generator\n",
        "    :param sess: TensorFlow session\n",
        "    :param n_images: Number of Images to display\n",
        "    :param input_z: Input Z Tensor\n",
        "    :param out_channel_dim: The number of channels in the output image\n",
        "    :param image_mode: The mode to use for images (\"RGB\" or \"L\")\n",
        "    \"\"\"\n",
        "    cmap = None if image_mode == 'RGB' else 'gray'\n",
        "    z_dim = input_z.get_shape().as_list()[-1]\n",
        "    example_z = np.random.uniform(-1, 1, size=[n_images, z_dim])\n",
        "\n",
        "    samples = sess.run(\n",
        "        generator(input_z, out_channel_dim, False),\n",
        "        feed_dict={input_z: example_z})\n",
        "\n",
        "    images_grid = helper.images_square_grid(samples, image_mode)\n",
        "    pyplot.imshow(images_grid, cmap=cmap)\n",
        "    pyplot.show()"
      ],
      "execution_count": 0,
      "outputs": []
    },
    {
      "metadata": {
        "id": "qzHR6r8-a3Gn",
        "colab_type": "text"
      },
      "cell_type": "markdown",
      "source": [
        "### Train\n",
        "Implement `train` to build and train the GANs.  Use the following functions you implemented:\n",
        "- `model_inputs(image_width, image_height, image_channels, z_dim)`\n",
        "- `model_loss(input_real, input_z, out_channel_dim)`\n",
        "- `model_opt(d_loss, g_loss, learning_rate, beta1)`\n",
        "\n",
        "Use the `show_generator_output` to show `generator` output while you train. Running `show_generator_output` for every batch will drastically increase training time and increase the size of the notebook.  It's recommended to print the `generator` output every 100 batches."
      ]
    },
    {
      "metadata": {
        "id": "qXnfDzyCa3Go",
        "colab_type": "code",
        "colab": {}
      },
      "cell_type": "code",
      "source": [
        "def train(epoch_count, batch_size, z_dim, learning_rate, beta1, get_batches, data_shape, data_image_mode):\n",
        "    \"\"\"\n",
        "    Train the GAN\n",
        "    :param epoch_count: Number of epochs\n",
        "    :param batch_size: Batch Size\n",
        "    :param z_dim: Z dimension\n",
        "    :param learning_rate: Learning Rate\n",
        "    :param beta1: The exponential decay rate for the 1st moment in the optimizer\n",
        "    :param get_batches: Function to get batches\n",
        "    :param data_shape: Shape of the data\n",
        "    :param data_image_mode: The image mode to use for images (\"RGB\" or \"L\")\n",
        "    \"\"\"\n",
        "    # TODO: Build Model\n",
        "    \n",
        "    \n",
        "    with tf.Session() as sess:\n",
        "        sess.run(tf.global_variables_initializer())\n",
        "        for epoch_i in range(epoch_count):\n",
        "            for batch_images in get_batches(batch_size):\n",
        "                # TODO: Train Model\n",
        "                \n",
        "                "
      ],
      "execution_count": 0,
      "outputs": []
    },
    {
      "metadata": {
        "id": "t4uuQ5lza3Gs",
        "colab_type": "text"
      },
      "cell_type": "markdown",
      "source": [
        "### MNIST\n",
        "Test your GANs architecture on MNIST.  After 2 epochs, the GANs should be able to generate images that look like handwritten digits.  Make sure the loss of the generator is lower than the loss of the discriminator or close to 0."
      ]
    },
    {
      "metadata": {
        "id": "jz3h7fIIa3Gt",
        "colab_type": "code",
        "colab": {}
      },
      "cell_type": "code",
      "source": [
        "batch_size = None\n",
        "z_dim = None\n",
        "learning_rate = None\n",
        "beta1 = None\n",
        "\n",
        "\n",
        "\"\"\"\n",
        "DON'T MODIFY ANYTHING IN THIS CELL THAT IS BELOW THIS LINE\n",
        "\"\"\"\n",
        "epochs = 2\n",
        "\n",
        "mnist_dataset = helper.Dataset('mnist', glob(os.path.join(data_dir, 'mnist/*.jpg')))\n",
        "with tf.Graph().as_default():\n",
        "    train(epochs, batch_size, z_dim, learning_rate, beta1, mnist_dataset.get_batches,\n",
        "          mnist_dataset.shape, mnist_dataset.image_mode)"
      ],
      "execution_count": 0,
      "outputs": []
    },
    {
      "metadata": {
        "id": "V3n9JcVXa3Gw",
        "colab_type": "text"
      },
      "cell_type": "markdown",
      "source": [
        "### CelebA\n",
        "Run your GANs on CelebA.  It will take around 20 minutes on the average GPU to run one epoch.  You can run the whole epoch or stop when it starts to generate realistic faces."
      ]
    },
    {
      "metadata": {
        "id": "GN0P5C1Ja3Gx",
        "colab_type": "code",
        "colab": {}
      },
      "cell_type": "code",
      "source": [
        "batch_size = None\n",
        "z_dim = None\n",
        "learning_rate = None\n",
        "beta1 = None\n",
        "\n",
        "\n",
        "\"\"\"\n",
        "DON'T MODIFY ANYTHING IN THIS CELL THAT IS BELOW THIS LINE\n",
        "\"\"\"\n",
        "epochs = 1\n",
        "\n",
        "celeba_dataset = helper.Dataset('celeba', glob(os.path.join(data_dir, 'img_align_celeba/*.jpg')))\n",
        "with tf.Graph().as_default():\n",
        "    train(epochs, batch_size, z_dim, learning_rate, beta1, celeba_dataset.get_batches,\n",
        "          celeba_dataset.shape, celeba_dataset.image_mode)"
      ],
      "execution_count": 0,
      "outputs": []
    },
    {
      "metadata": {
        "id": "0DjX905Ta3Gz",
        "colab_type": "text"
      },
      "cell_type": "markdown",
      "source": [
        "### Submitting This Project\n",
        "When submitting this project, make sure to run all the cells before saving the notebook. Save the notebook file as \"dlnd_face_generation.ipynb\" and save it as a HTML file under \"File\" -> \"Download as\". Include the \"helper.py\" and \"problem_unittests.py\" files in your submission."
      ]
    }
  ]
}