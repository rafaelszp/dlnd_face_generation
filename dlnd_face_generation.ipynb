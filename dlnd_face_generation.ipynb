{
  "nbformat": 4,
  "nbformat_minor": 0,
  "metadata": {
    "colab": {
      "name": "dlnd_face_generation.ipynb",
      "version": "0.3.2",
      "provenance": []
    },
    "kernelspec": {
      "display_name": "Python 3",
      "language": "python",
      "name": "python3"
    },
    "accelerator": "GPU"
  },
  "cells": [
    {
      "cell_type": "markdown",
      "metadata": {
        "id": "view-in-github",
        "colab_type": "text"
      },
      "source": [
        "[View in Colaboratory](https://colab.research.google.com/github/rafaelszp/dlnd_face_generation/blob/master/dlnd_face_generation.ipynb)"
      ]
    },
    {
      "metadata": {
        "id": "bq-Zcbf1a3F4",
        "colab_type": "text"
      },
      "cell_type": "markdown",
      "source": [
        "# Face Generation\n",
        "In this project, you'll use generative adversarial networks to generate new images of faces.\n",
        "### Get the Data\n",
        "You'll be using two datasets in this project:\n",
        "- MNIST\n",
        "- CelebA\n",
        "\n",
        "Since the celebA dataset is complex and you're doing GANs in a project for the first time, we want you to test your neural network on MNIST before CelebA.  Running the GANs on MNIST will allow you to see how well your model trains sooner.\n",
        "\n",
        "If you're using [FloydHub](https://www.floydhub.com/), set `data_dir` to \"/input\" and use the [FloydHub data ID](http://docs.floydhub.com/home/using_datasets/) \"R5KrjnANiKVhLWAkpXhNBe\"."
      ]
    },
    {
      "metadata": {
        "id": "c6Y7pokVdZk2",
        "colab_type": "code",
        "colab": {
          "base_uri": "https://localhost:8080/",
          "height": 289
        },
        "outputId": "b76de65e-2464-4a3f-f34a-b4ec3f8e6821"
      },
      "cell_type": "code",
      "source": [
        "#!git clone https://github.com/rafaelszp/dlnd_face_generation.git\n",
        "#!cp dlnd_face_generation/*.py .\n",
        "#!pip install -U matplotlib==2.0.2\n",
        "#!pip install tqdm"
      ],
      "execution_count": 4,
      "outputs": [
        {
          "output_type": "stream",
          "text": [
            "Collecting matplotlib==2.0.2\r\n",
            "\u001b[33m  Cache entry deserialization failed, entry ignored\u001b[0m\n",
            "\u001b[?25l  Downloading https://files.pythonhosted.org/packages/60/d4/6b6d8a7a6bc69a1602ab372f6fc6e88ef88a8a96398a1a25edbac636295b/matplotlib-2.0.2-cp36-cp36m-manylinux1_x86_64.whl (14.6MB)\n",
            "\u001b[K    100% |████████████████████████████████| 14.6MB 3.3MB/s \n",
            "\u001b[?25hRequirement not upgraded as not directly required: python-dateutil in /usr/local/lib/python3.6/dist-packages (from matplotlib==2.0.2) (2.5.3)\n",
            "Requirement not upgraded as not directly required: cycler>=0.10 in /usr/local/lib/python3.6/dist-packages (from matplotlib==2.0.2) (0.10.0)\n",
            "Requirement not upgraded as not directly required: six>=1.10 in /usr/local/lib/python3.6/dist-packages (from matplotlib==2.0.2) (1.11.0)\n",
            "Requirement not upgraded as not directly required: pytz in /usr/local/lib/python3.6/dist-packages (from matplotlib==2.0.2) (2018.4)\n",
            "Requirement not upgraded as not directly required: pyparsing!=2.0.0,!=2.0.4,!=2.1.2,!=2.1.6,>=1.5.6 in /usr/local/lib/python3.6/dist-packages (from matplotlib==2.0.2) (2.2.0)\n",
            "Requirement not upgraded as not directly required: numpy>=1.7.1 in /usr/local/lib/python3.6/dist-packages (from matplotlib==2.0.2) (1.14.3)\n",
            "Installing collected packages: matplotlib\n",
            "  Found existing installation: matplotlib 2.1.2\n",
            "    Uninstalling matplotlib-2.1.2:\n",
            "      Successfully uninstalled matplotlib-2.1.2\n",
            "Successfully installed matplotlib-2.0.2\n"
          ],
          "name": "stdout"
        }
      ]
    },
    {
      "metadata": {
        "id": "05smw7MFa3F6",
        "colab_type": "code",
        "colab": {
          "base_uri": "https://localhost:8080/",
          "height": 51
        },
        "outputId": "f516095c-910e-402d-f4bb-42b8b9652016"
      },
      "cell_type": "code",
      "source": [
        "data_dir = './data'\n",
        "\n",
        "# FloydHub - Use with data ID \"R5KrjnANiKVhLWAkpXhNBe\"\n",
        "#data_dir = '/input'\n",
        "\n",
        "\n",
        "\"\"\"\n",
        "DON'T MODIFY ANYTHING IN THIS CELL\n",
        "\"\"\"\n",
        "import helper\n",
        "\n",
        "helper.download_extract('mnist', data_dir)\n",
        "helper.download_extract('celeba', data_dir)"
      ],
      "execution_count": 1,
      "outputs": [
        {
          "output_type": "stream",
          "text": [
            "Found mnist Data\n",
            "Found celeba Data\n"
          ],
          "name": "stdout"
        }
      ]
    },
    {
      "metadata": {
        "id": "T8E9iow7a3GC",
        "colab_type": "text"
      },
      "cell_type": "markdown",
      "source": [
        "## Explore the Data\n",
        "### MNIST\n",
        "As you're aware, the [MNIST](http://yann.lecun.com/exdb/mnist/) dataset contains images of handwritten digits. You can view the first number of examples by changing `show_n_images`. "
      ]
    },
    {
      "metadata": {
        "id": "CMVYFHv8a3GD",
        "colab_type": "code",
        "colab": {
          "base_uri": "https://localhost:8080/",
          "height": 286
        },
        "outputId": "489dba1d-cbe1-416f-e6ab-c5281fe0f63c"
      },
      "cell_type": "code",
      "source": [
        "show_n_images = 25\n",
        "\n",
        "\"\"\"\n",
        "DON'T MODIFY ANYTHING IN THIS CELL\n",
        "\"\"\"\n",
        "%matplotlib inline\n",
        "import os\n",
        "from glob import glob\n",
        "from matplotlib import pyplot\n",
        "\n",
        "mnist_images = helper.get_batch(glob(os.path.join(data_dir, 'mnist/*.jpg'))[:show_n_images], 28, 28, 'L')\n",
        "pyplot.imshow(helper.images_square_grid(mnist_images, 'L'), cmap='gray')"
      ],
      "execution_count": 2,
      "outputs": [
        {
          "output_type": "execute_result",
          "data": {
            "text/plain": [
              "<matplotlib.image.AxesImage at 0x7f667476aa90>"
            ]
          },
          "metadata": {
            "tags": []
          },
          "execution_count": 2
        },
        {
          "output_type": "display_data",
          "data": {
            "image/png": "[encoded data removed]",
            "text/plain": [
              "<matplotlib.figure.Figure at 0x7f6686b9bf98>"
            ]
          },
          "metadata": {
            "tags": []
          }
        }
      ]
    },
    {
      "metadata": {
        "id": "JOlC3-rQa3GG",
        "colab_type": "text"
      },
      "cell_type": "markdown",
      "source": [
        "### CelebA\n",
        "The [CelebFaces Attributes Dataset (CelebA)](http://mmlab.ie.cuhk.edu.hk/projects/CelebA.html) dataset contains over 200,000 celebrity images with annotations.  Since you're going to be generating faces, you won't need the annotations.  You can view the first number of examples by changing `show_n_images`."
      ]
    },
    {
      "metadata": {
        "id": "K8Snx80za3GG",
        "colab_type": "code",
        "colab": {
          "base_uri": "https://localhost:8080/",
          "height": 286
        },
        "outputId": "60c4d828-3a4c-4390-9417-4d8b9cd34938"
      },
      "cell_type": "code",
      "source": [
        "show_n_images = 25\n",
        "\n",
        "\"\"\"\n",
        "DON'T MODIFY ANYTHING IN THIS CELL\n",
        "\"\"\"\n",
        "mnist_images = helper.get_batch(glob(os.path.join(data_dir, 'img_align_celeba/*.jpg'))[:show_n_images], 28, 28, 'RGB')\n",
        "pyplot.imshow(helper.images_square_grid(mnist_images, 'RGB'))"
      ],
      "execution_count": 3,
      "outputs": [
        {
          "output_type": "execute_result",
          "data": {
            "text/plain": [
              "<matplotlib.image.AxesImage at 0x7f667465f748>"
            ]
          },
          "metadata": {
            "tags": []
          },
          "execution_count": 3
        },
        {
          "output_type": "display_data",
          "data": {
            "image/png": "[encoded data removed]",
            "text/plain": [
              "<matplotlib.figure.Figure at 0x7f66749245f8>"
            ]
          },
          "metadata": {
            "tags": []
          }
        }
      ]
    },
    {
      "metadata": {
        "id": "e2gc_fOBa3GJ",
        "colab_type": "text"
      },
      "cell_type": "markdown",
      "source": [
        "## Preprocess the Data\n",
        "Since the project's main focus is on building the GANs, we'll preprocess the data for you.  The values of the MNIST and CelebA dataset will be in the range of -0.5 to 0.5 of 28x28 dimensional images.  The CelebA images will be cropped to remove parts of the image that don't include a face, then resized down to 28x28.\n",
        "\n",
        "The MNIST images are black and white images with a single [color channel](https://en.wikipedia.org/wiki/Channel_(digital_image%29) while the CelebA images have [3 color channels (RGB color channel)](https://en.wikipedia.org/wiki/Channel_(digital_image%29#RGB_Images).\n",
        "## Build the Neural Network\n",
        "You'll build the components necessary to build a GANs by implementing the following functions below:\n",
        "- `model_inputs`\n",
        "- `discriminator`\n",
        "- `generator`\n",
        "- `model_loss`\n",
        "- `model_opt`\n",
        "- `train`\n",
        "\n",
        "### Check the Version of TensorFlow and Access to GPU\n",
        "This will check to make sure you have the correct version of TensorFlow and access to a GPU"
      ]
    },
    {
      "metadata": {
        "id": "fMxqqR4ga3GK",
        "colab_type": "code",
        "colab": {
          "base_uri": "https://localhost:8080/",
          "height": 51
        },
        "outputId": "b51585e3-1ba7-4f8e-e544-1401b63ffa8d"
      },
      "cell_type": "code",
      "source": [
        "\"\"\"\n",
        "DON'T MODIFY ANYTHING IN THIS CELL\n",
        "\"\"\"\n",
        "from distutils.version import LooseVersion\n",
        "import warnings\n",
        "import tensorflow as tf\n",
        "\n",
        "# Check TensorFlow Version\n",
        "assert LooseVersion(tf.__version__) >= LooseVersion('1.0'), 'Please use TensorFlow version 1.0 or newer.  You are using {}'.format(tf.__version__)\n",
        "print('TensorFlow Version: {}'.format(tf.__version__))\n",
        "\n",
        "# Check for a GPU\n",
        "if not tf.test.gpu_device_name():\n",
        "    warnings.warn('No GPU found. Please use a GPU to train your neural network.')\n",
        "else:\n",
        "    print('Default GPU Device: {}'.format(tf.test.gpu_device_name()))"
      ],
      "execution_count": 4,
      "outputs": [
        {
          "output_type": "stream",
          "text": [
            "TensorFlow Version: 1.7.0\n",
            "Default GPU Device: /device:GPU:0\n"
          ],
          "name": "stdout"
        }
      ]
    },
    {
      "metadata": {
        "id": "hVaUW7mUa3GN",
        "colab_type": "text"
      },
      "cell_type": "markdown",
      "source": [
        "### Input\n",
        "Implement the `model_inputs` function to create TF Placeholders for the Neural Network. It should create the following placeholders:\n",
        "- Real input images placeholder with rank 4 using `image_width`, `image_height`, and `image_channels`.\n",
        "- Z input placeholder with rank 2 using `z_dim`.\n",
        "- Learning rate placeholder with rank 0.\n",
        "\n",
        "Return the placeholders in the following the tuple (tensor of real input images, tensor of z data)"
      ]
    },
    {
      "metadata": {
        "id": "Apm7h6PAa3GO",
        "colab_type": "code",
        "colab": {
          "base_uri": "https://localhost:8080/",
          "height": 34
        },
        "outputId": "c5c0566f-03b0-4d82-e4f5-df868c5ddfc8"
      },
      "cell_type": "code",
      "source": [
        "import problem_unittests as tests\n",
        "\n",
        "def model_inputs(image_width, image_height, image_channels, z_dim):\n",
        "    \"\"\"\n",
        "    Create the model inputs\n",
        "    :param image_width: The input image width\n",
        "    :param image_height: The input image height\n",
        "    :param image_channels: The number of image channels\n",
        "    :param z_dim: The dimension of Z\n",
        "    :return: Tuple of (tensor of real input images, tensor of z data, learning rate)\n",
        "    \"\"\"\n",
        "    # TODO: Implement Function\n",
        "\n",
        "    x = tf.placeholder(tf.float32, shape=(None, image_height, image_width, image_channels))\n",
        "    z = tf.placeholder(tf.float32, shape=(None, z_dim))\n",
        "    l = tf.placeholder(tf.float32)\n",
        "\n",
        "    return x, z, l\n",
        "\n",
        "\n",
        "\n",
        "\"\"\"\n",
        "DON'T MODIFY ANYTHING IN THIS CELL THAT IS BELOW THIS LINE\n",
        "\"\"\"\n",
        "tests.test_model_inputs(model_inputs)"
      ],
      "execution_count": 5,
      "outputs": [
        {
          "output_type": "stream",
          "text": [
            "Tests Passed\n"
          ],
          "name": "stdout"
        }
      ]
    },
    {
      "metadata": {
        "id": "4uz-3ARlfDyM",
        "colab_type": "code",
        "colab": {
          "base_uri": "https://localhost:8080/",
          "height": 17
        },
        "outputId": "c9d1ffcd-7fe6-4f99-c783-ec63cd40d9c6"
      },
      "cell_type": "code",
      "source": [
        "\n",
        "leakyRelu = lambda x,alpha=0.2: tf.maximum(x*alpha,x)"
      ],
      "execution_count": 6,
      "outputs": []
    },
    {
      "metadata": {
        "id": "ooj-LdU2a3GR",
        "colab_type": "text"
      },
      "cell_type": "markdown",
      "source": [
        "### Discriminator\n",
        "Implement `discriminator` to create a discriminator neural network that discriminates on `images`.  This function should be able to reuse the variables in the neural network.  Use [`tf.variable_scope`](https://www.tensorflow.org/api_docs/python/tf/variable_scope) with a scope name of \"discriminator\" to allow the variables to be reused.  The function should return a tuple of (tensor output of the discriminator, tensor logits of the discriminator)."
      ]
    },
    {
      "metadata": {
        "id": "GpJlwYpea3GS",
        "colab_type": "code",
        "colab": {
          "base_uri": "https://localhost:8080/",
          "height": 34
        },
        "outputId": "48ee5e9c-7b38-4e0b-b247-3e641ff5091b"
      },
      "cell_type": "code",
      "source": [
        "def discriminator(images, reuse=False):\n",
        "    \"\"\"\n",
        "    Create the discriminator network\n",
        "    :param images: Tensor of input image(s)\n",
        "    :param reuse: Boolean if the weights should be reused\n",
        "    :return: Tuple of (tensor output of the discriminator, tensor logits of the discriminator)\n",
        "    \"\"\"\n",
        "    kernel_init = tf.random_normal_initializer(stddev=0.02)\n",
        "    \n",
        "    def conv(images, n_filters, kernel_size=5, strides=2, kernel_initializer=kernel_init, padding='same',is_first=False):\n",
        "      x = tf.layers.conv2d(images, n_filters, kernel_size, strides, kernel_initializer=kernel_initializer, padding=padding)\n",
        "      x = leakyRelu(x)\n",
        "      if(is_first):\n",
        "        x = tf.layers.batch_normalization(x, training=True)\n",
        "      return x\n",
        "    \n",
        "    with tf.variable_scope('discriminator', reuse=reuse):\n",
        "        # Input is 28x28x3\n",
        "        x = conv(images,64,is_first=True)\n",
        "        # 14x14x64        \n",
        "        x = conv(x,128)\n",
        "        # 7x7x128\n",
        "        x = conv(x,256)\n",
        "        # 4x4x256\n",
        "        \n",
        "        x = tf.reshape(x, (-1, 4*4*256))\n",
        "        logits = tf.layers.dense(x, 1)\n",
        "        out = tf.sigmoid(logits)\n",
        "\n",
        "    return out, logits\n",
        "\n",
        "\n",
        "\"\"\"\n",
        "DON'T MODIFY ANYTHING IN THIS CELL THAT IS BELOW THIS LINE\n",
        "\"\"\"\n",
        "tests.test_discriminator(discriminator, tf)"
      ],
      "execution_count": 7,
      "outputs": [
        {
          "output_type": "stream",
          "text": [
            "Tests Passed\n"
          ],
          "name": "stdout"
        }
      ]
    },
    {
      "metadata": {
        "id": "OsQh1-KGa3GV",
        "colab_type": "text"
      },
      "cell_type": "markdown",
      "source": [
        "### Generator\n",
        "Implement `generator` to generate an image using `z`. This function should be able to reuse the variables in the neural network.  Use [`tf.variable_scope`](https://www.tensorflow.org/api_docs/python/tf/variable_scope) with a scope name of \"generator\" to allow the variables to be reused. The function should return the generated 28 x 28 x `out_channel_dim` images."
      ]
    },
    {
      "metadata": {
        "id": "KHzJPuqSa3GW",
        "colab_type": "code",
        "colab": {
          "base_uri": "https://localhost:8080/",
          "height": 34
        },
        "outputId": "19b9c6b5-710a-4532-e88f-6cf8bb3e3842"
      },
      "cell_type": "code",
      "source": [
        "def generator(z, out_channel_dim, is_train=True):\n",
        "    \"\"\"\n",
        "    Create the generator network\n",
        "    :param z: Input z\n",
        "    :param out_channel_dim: The number of channels in the output image\n",
        "    :param is_train: Boolean if generator is being used for training\n",
        "    :return: The tensor output of the generator\n",
        "    \"\"\"\n",
        "    kernel_init = tf.random_normal_initializer(stddev=0.02)\n",
        "    \n",
        "    def deconv(inputs, n_filters, kernel_size=5, strides=2, kernel_initializer=kernel_init, padding='same',is_last=False):\n",
        "      x = tf.layers.conv2d_transpose(inputs, n_filters, kernel_size, strides=strides, kernel_initializer=kernel_initializer, padding=padding)\n",
        "      if(not is_last):\n",
        "        x = leakyRelu(x)\n",
        "        x = tf.layers.batch_normalization(x, training=is_train)\n",
        "\n",
        "      return x\n",
        "    \n",
        "    with tf.variable_scope('generator', reuse=(not is_train)):\n",
        "        x = tf.layers.dense(z, 7*7*256)\n",
        "        x = tf.reshape(x, (-1, 7, 7, 256))\n",
        "        x = tf.layers.batch_normalization(x, training=is_train)\n",
        "        x = leakyRelu(x)        \n",
        "        # 7x7x256\n",
        "        x = deconv(x,128)\n",
        "        # 14x14x128\n",
        "        x = deconv(x,64)\n",
        "        # 28x28x64\n",
        "        \n",
        "        logits = deconv(x,n_filters=out_channel_dim,kernel_size=3,strides=1,is_last=True)\n",
        "        # 28x28x3\n",
        "        \n",
        "        out = tf.tanh(logits)\n",
        "    \n",
        "    return out\n",
        "\n",
        "\n",
        "\"\"\"\n",
        "DON'T MODIFY ANYTHING IN THIS CELL THAT IS BELOW THIS LINE\n",
        "\"\"\"\n",
        "tests.test_generator(generator, tf)"
      ],
      "execution_count": 8,
      "outputs": [
        {
          "output_type": "stream",
          "text": [
            "Tests Passed\n"
          ],
          "name": "stdout"
        }
      ]
    },
    {
      "metadata": {
        "id": "kxHgWZXja3Ga",
        "colab_type": "text"
      },
      "cell_type": "markdown",
      "source": [
        "### Loss\n",
        "Implement `model_loss` to build the GANs for training and calculate the loss.  The function should return a tuple of (discriminator loss, generator loss).  Use the following functions you implemented:\n",
        "- `discriminator(images, reuse=False)`\n",
        "- `generator(z, out_channel_dim, is_train=True)`"
      ]
    },
    {
      "metadata": {
        "id": "cy1XKDcKa3Ga",
        "colab_type": "code",
        "colab": {
          "base_uri": "https://localhost:8080/",
          "height": 34
        },
        "outputId": "e2272f44-b2da-46f6-b607-2198ba1027c1"
      },
      "cell_type": "code",
      "source": [
        "def model_loss(input_real, input_z, out_channel_dim):\n",
        "    \"\"\"\n",
        "    Get the loss for the discriminator and generator\n",
        "    :param input_real: Images from the real dataset\n",
        "    :param input_z: Z input\n",
        "    :param out_channel_dim: The number of channels in the output image\n",
        "    :return: A tuple of (discriminator loss, generator loss)\n",
        "    \"\"\"\n",
        "    # TODO: Implement Function\n",
        "    \n",
        "    gmodel = generator(input_z,out_channel_dim,is_train=True)\n",
        "    dmodel, dmodel_logits = discriminator(input_real,reuse=False) \n",
        "    gxdmodel, gxdmodel_logits = discriminator(gmodel,reuse=True)\n",
        "    \n",
        "    dloss = tf.reduce_mean(tf.nn.sigmoid_cross_entropy_with_logits(logits=dmodel_logits,labels=tf.ones_like(dmodel)))\n",
        "    gxdloss = tf.reduce_mean(tf.nn.sigmoid_cross_entropy_with_logits(logits=gxdmodel_logits,labels=tf.zeros_like(gxdmodel)))\n",
        "    gloss = tf.reduce_mean(tf.nn.sigmoid_cross_entropy_with_logits(logits=gxdmodel_logits,labels=tf.ones_like(gxdmodel)))\n",
        "    \n",
        "    dloss = dloss + gxdloss\n",
        "    \n",
        "    \n",
        "    return dloss, gloss\n",
        "\n",
        "\n",
        "\"\"\"\n",
        "DON'T MODIFY ANYTHING IN THIS CELL THAT IS BELOW THIS LINE\n",
        "\"\"\"\n",
        "tests.test_model_loss(model_loss)"
      ],
      "execution_count": 11,
      "outputs": [
        {
          "output_type": "stream",
          "text": [
            "Tests Passed\n"
          ],
          "name": "stdout"
        }
      ]
    },
    {
      "metadata": {
        "id": "dmPgecEBa3Ge",
        "colab_type": "text"
      },
      "cell_type": "markdown",
      "source": [
        "### Optimization\n",
        "Implement `model_opt` to create the optimization operations for the GANs. Use [`tf.trainable_variables`](https://www.tensorflow.org/api_docs/python/tf/trainable_variables) to get all the trainable variables.  Filter the variables with names that are in the discriminator and generator scope names.  The function should return a tuple of (discriminator training operation, generator training operation)."
      ]
    },
    {
      "metadata": {
        "id": "F4TfDwPIa3Gg",
        "colab_type": "code",
        "colab": {
          "base_uri": "https://localhost:8080/",
          "height": 34
        },
        "outputId": "e233a3c1-38d8-4f96-a406-b60a02f1bca8"
      },
      "cell_type": "code",
      "source": [
        "def model_opt(d_loss, g_loss, learning_rate, beta1):\n",
        "    \"\"\"\n",
        "    Get optimization operations\n",
        "    :param d_loss: Discriminator loss Tensor\n",
        "    :param g_loss: Generator loss Tensor\n",
        "    :param learning_rate: Learning Rate Placeholder\n",
        "    :param beta1: The exponential decay rate for the 1st moment in the optimizer\n",
        "    :return: A tuple of (discriminator training operation, generator training operation)\n",
        "    \"\"\"\n",
        "    # TODO: Implement Function\n",
        "    t_vars = tf.trainable_variables()\n",
        "    g_vars = [g for g in t_vars if g.name.startswith('generator')]\n",
        "    d_vars = [d for d in t_vars if d.name.startswith('discriminator')]\n",
        "    \n",
        "    with tf.control_dependencies(tf.get_collection(tf.GraphKeys.UPDATE_OPS)):\n",
        "      d_train_opt = tf.train.AdamOptimizer(learning_rate,beta1).minimize(d_loss,var_list=d_vars)\n",
        "      g_train_opt = tf.train.AdamOptimizer(learning_rate,beta1).minimize(g_loss,var_list=g_vars)\n",
        "    \n",
        "    return d_train_opt, g_train_opt\n",
        "\n",
        "\n",
        "\"\"\"\n",
        "DON'T MODIFY ANYTHING IN THIS CELL THAT IS BELOW THIS LINE\n",
        "\"\"\"\n",
        "tests.test_model_opt(model_opt, tf)"
      ],
      "execution_count": 16,
      "outputs": [
        {
          "output_type": "stream",
          "text": [
            "Tests Passed\n"
          ],
          "name": "stdout"
        }
      ]
    },
    {
      "metadata": {
        "id": "92duK-8Oa3Gj",
        "colab_type": "text"
      },
      "cell_type": "markdown",
      "source": [
        "## Neural Network Training\n",
        "### Show Output\n",
        "Use this function to show the current output of the generator during training. It will help you determine how well the GANs is training."
      ]
    },
    {
      "metadata": {
        "id": "kvTrCOoqa3Gk",
        "colab_type": "code",
        "colab": {
          "base_uri": "https://localhost:8080/",
          "height": 17
        },
        "outputId": "e020a7e2-e920-4e50-f7ad-32285ec06cf4"
      },
      "cell_type": "code",
      "source": [
        "\"\"\"\n",
        "DON'T MODIFY ANYTHING IN THIS CELL\n",
        "\"\"\"\n",
        "import numpy as np\n",
        "\n",
        "def show_generator_output(sess, n_images, input_z, out_channel_dim, image_mode):\n",
        "    \"\"\"\n",
        "    Show example output for the generator\n",
        "    :param sess: TensorFlow session\n",
        "    :param n_images: Number of Images to display\n",
        "    :param input_z: Input Z Tensor\n",
        "    :param out_channel_dim: The number of channels in the output image\n",
        "    :param image_mode: The mode to use for images (\"RGB\" or \"L\")\n",
        "    \"\"\"\n",
        "    cmap = None if image_mode == 'RGB' else 'gray'\n",
        "    z_dim = input_z.get_shape().as_list()[-1]\n",
        "    example_z = np.random.uniform(-1, 1, size=[n_images, z_dim])\n",
        "\n",
        "    samples = sess.run(\n",
        "        generator(input_z, out_channel_dim, False),\n",
        "        feed_dict={input_z: example_z})\n",
        "\n",
        "    images_grid = helper.images_square_grid(samples, image_mode)\n",
        "    pyplot.imshow(images_grid, cmap=cmap)\n",
        "    pyplot.show()"
      ],
      "execution_count": 17,
      "outputs": []
    },
    {
      "metadata": {
        "id": "qzHR6r8-a3Gn",
        "colab_type": "text"
      },
      "cell_type": "markdown",
      "source": [
        "### Train\n",
        "Implement `train` to build and train the GANs.  Use the following functions you implemented:\n",
        "- `model_inputs(image_width, image_height, image_channels, z_dim)`\n",
        "- `model_loss(input_real, input_z, out_channel_dim)`\n",
        "- `model_opt(d_loss, g_loss, learning_rate, beta1)`\n",
        "\n",
        "Use the `show_generator_output` to show `generator` output while you train. Running `show_generator_output` for every batch will drastically increase training time and increase the size of the notebook.  It's recommended to print the `generator` output every 100 batches."
      ]
    },
    {
      "metadata": {
        "id": "qXnfDzyCa3Go",
        "colab_type": "code",
        "colab": {}
      },
      "cell_type": "code",
      "source": [
        "def train(epoch_count, batch_size, z_dim, learning_rate, beta1, get_batches, data_shape, data_image_mode):\n",
        "    \"\"\"\n",
        "    Train the GAN\n",
        "    :param epoch_count: Number of epochs\n",
        "    :param batch_size: Batch Size\n",
        "    :param z_dim: Z dimension\n",
        "    :param learning_rate: Learning Rate\n",
        "    :param beta1: The exponential decay rate for the 1st moment in the optimizer\n",
        "    :param get_batches: Function to get batches\n",
        "    :param data_shape: Shape of the data\n",
        "    :param data_image_mode: The image mode to use for images (\"RGB\" or \"L\")\n",
        "    \"\"\"\n",
        "    # TODO: Build Model\n",
        "    \n",
        "    \n",
        "    with tf.Session() as sess:\n",
        "        sess.run(tf.global_variables_initializer())\n",
        "        for epoch_i in range(epoch_count):\n",
        "            for batch_images in get_batches(batch_size):\n",
        "                # TODO: Train Model\n",
        "                \n",
        "                "
      ],
      "execution_count": 0,
      "outputs": []
    },
    {
      "metadata": {
        "id": "t4uuQ5lza3Gs",
        "colab_type": "text"
      },
      "cell_type": "markdown",
      "source": [
        "### MNIST\n",
        "Test your GANs architecture on MNIST.  After 2 epochs, the GANs should be able to generate images that look like handwritten digits.  Make sure the loss of the generator is lower than the loss of the discriminator or close to 0."
      ]
    },
    {
      "metadata": {
        "id": "jz3h7fIIa3Gt",
        "colab_type": "code",
        "colab": {}
      },
      "cell_type": "code",
      "source": [
        "batch_size = None\n",
        "z_dim = None\n",
        "learning_rate = None\n",
        "beta1 = None\n",
        "\n",
        "\n",
        "\"\"\"\n",
        "DON'T MODIFY ANYTHING IN THIS CELL THAT IS BELOW THIS LINE\n",
        "\"\"\"\n",
        "epochs = 2\n",
        "\n",
        "mnist_dataset = helper.Dataset('mnist', glob(os.path.join(data_dir, 'mnist/*.jpg')))\n",
        "with tf.Graph().as_default():\n",
        "    train(epochs, batch_size, z_dim, learning_rate, beta1, mnist_dataset.get_batches,\n",
        "          mnist_dataset.shape, mnist_dataset.image_mode)"
      ],
      "execution_count": 0,
      "outputs": []
    },
    {
      "metadata": {
        "id": "V3n9JcVXa3Gw",
        "colab_type": "text"
      },
      "cell_type": "markdown",
      "source": [
        "### CelebA\n",
        "Run your GANs on CelebA.  It will take around 20 minutes on the average GPU to run one epoch.  You can run the whole epoch or stop when it starts to generate realistic faces."
      ]
    },
    {
      "metadata": {
        "id": "GN0P5C1Ja3Gx",
        "colab_type": "code",
        "colab": {}
      },
      "cell_type": "code",
      "source": [
        "batch_size = None\n",
        "z_dim = None\n",
        "learning_rate = None\n",
        "beta1 = None\n",
        "\n",
        "\n",
        "\"\"\"\n",
        "DON'T MODIFY ANYTHING IN THIS CELL THAT IS BELOW THIS LINE\n",
        "\"\"\"\n",
        "epochs = 1\n",
        "\n",
        "celeba_dataset = helper.Dataset('celeba', glob(os.path.join(data_dir, 'img_align_celeba/*.jpg')))\n",
        "with tf.Graph().as_default():\n",
        "    train(epochs, batch_size, z_dim, learning_rate, beta1, celeba_dataset.get_batches,\n",
        "          celeba_dataset.shape, celeba_dataset.image_mode)"
      ],
      "execution_count": 0,
      "outputs": []
    },
    {
      "metadata": {
        "id": "0DjX905Ta3Gz",
        "colab_type": "text"
      },
      "cell_type": "markdown",
      "source": [
        "### Submitting This Project\n",
        "When submitting this project, make sure to run all the cells before saving the notebook. Save the notebook file as \"dlnd_face_generation.ipynb\" and save it as a HTML file under \"File\" -> \"Download as\". Include the \"helper.py\" and \"problem_unittests.py\" files in your submission."
      ]
    }
  ]
}